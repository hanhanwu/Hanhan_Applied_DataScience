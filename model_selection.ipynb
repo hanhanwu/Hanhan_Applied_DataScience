{
 "cells": [
  {
   "cell_type": "code",
   "execution_count": 10,
   "metadata": {},
   "outputs": [],
   "source": [
    "import numpy as np \n",
    "import pandas as pd \n",
    "from tpot import TPOTRegressor\n",
    "from sklearn.model_selection import train_test_split"
   ]
  },
  {
   "cell_type": "code",
   "execution_count": 4,
   "metadata": {},
   "outputs": [
    {
     "name": "stdout",
     "output_type": "stream",
     "text": [
      "(8523, 11)\n"
     ]
    },
    {
     "data": {
      "text/html": [
       "<div>\n",
       "<style scoped>\n",
       "    .dataframe tbody tr th:only-of-type {\n",
       "        vertical-align: middle;\n",
       "    }\n",
       "\n",
       "    .dataframe tbody tr th {\n",
       "        vertical-align: top;\n",
       "    }\n",
       "\n",
       "    .dataframe thead th {\n",
       "        text-align: right;\n",
       "    }\n",
       "</style>\n",
       "<table border=\"1\" class=\"dataframe\">\n",
       "  <thead>\n",
       "    <tr style=\"text-align: right;\">\n",
       "      <th></th>\n",
       "      <th>Item_Weight</th>\n",
       "      <th>Item_Fat_Content</th>\n",
       "      <th>Item_Visibility</th>\n",
       "      <th>Item_Type</th>\n",
       "      <th>Item_MRP</th>\n",
       "      <th>Outlet_Identifier</th>\n",
       "      <th>Outlet_Establishment_Year</th>\n",
       "      <th>Outlet_Size</th>\n",
       "      <th>Outlet_Location_Type</th>\n",
       "      <th>Outlet_Type</th>\n",
       "      <th>Item_Outlet_Sales</th>\n",
       "    </tr>\n",
       "  </thead>\n",
       "  <tbody>\n",
       "    <tr>\n",
       "      <th>0</th>\n",
       "      <td>9.30</td>\n",
       "      <td>0</td>\n",
       "      <td>0.016047</td>\n",
       "      <td>4</td>\n",
       "      <td>249.8092</td>\n",
       "      <td>9</td>\n",
       "      <td>18</td>\n",
       "      <td>1</td>\n",
       "      <td>0</td>\n",
       "      <td>1</td>\n",
       "      <td>3735.1380</td>\n",
       "    </tr>\n",
       "    <tr>\n",
       "      <th>1</th>\n",
       "      <td>5.92</td>\n",
       "      <td>1</td>\n",
       "      <td>0.019278</td>\n",
       "      <td>14</td>\n",
       "      <td>48.2692</td>\n",
       "      <td>3</td>\n",
       "      <td>8</td>\n",
       "      <td>1</td>\n",
       "      <td>2</td>\n",
       "      <td>2</td>\n",
       "      <td>443.4228</td>\n",
       "    </tr>\n",
       "    <tr>\n",
       "      <th>2</th>\n",
       "      <td>17.50</td>\n",
       "      <td>0</td>\n",
       "      <td>0.016760</td>\n",
       "      <td>10</td>\n",
       "      <td>141.6180</td>\n",
       "      <td>9</td>\n",
       "      <td>18</td>\n",
       "      <td>1</td>\n",
       "      <td>0</td>\n",
       "      <td>1</td>\n",
       "      <td>2097.2700</td>\n",
       "    </tr>\n",
       "    <tr>\n",
       "      <th>3</th>\n",
       "      <td>19.20</td>\n",
       "      <td>1</td>\n",
       "      <td>0.000000</td>\n",
       "      <td>6</td>\n",
       "      <td>182.0950</td>\n",
       "      <td>0</td>\n",
       "      <td>19</td>\n",
       "      <td>1</td>\n",
       "      <td>2</td>\n",
       "      <td>0</td>\n",
       "      <td>732.3800</td>\n",
       "    </tr>\n",
       "    <tr>\n",
       "      <th>4</th>\n",
       "      <td>8.93</td>\n",
       "      <td>0</td>\n",
       "      <td>0.000000</td>\n",
       "      <td>9</td>\n",
       "      <td>53.8614</td>\n",
       "      <td>1</td>\n",
       "      <td>30</td>\n",
       "      <td>0</td>\n",
       "      <td>2</td>\n",
       "      <td>1</td>\n",
       "      <td>994.7052</td>\n",
       "    </tr>\n",
       "  </tbody>\n",
       "</table>\n",
       "</div>"
      ],
      "text/plain": [
       "   Item_Weight  Item_Fat_Content  Item_Visibility  Item_Type  Item_MRP  \\\n",
       "0         9.30                 0         0.016047          4  249.8092   \n",
       "1         5.92                 1         0.019278         14   48.2692   \n",
       "2        17.50                 0         0.016760         10  141.6180   \n",
       "3        19.20                 1         0.000000          6  182.0950   \n",
       "4         8.93                 0         0.000000          9   53.8614   \n",
       "\n",
       "   Outlet_Identifier  Outlet_Establishment_Year  Outlet_Size  \\\n",
       "0                  9                         18            1   \n",
       "1                  3                          8            1   \n",
       "2                  9                         18            1   \n",
       "3                  0                         19            1   \n",
       "4                  1                         30            0   \n",
       "\n",
       "   Outlet_Location_Type  Outlet_Type  Item_Outlet_Sales  \n",
       "0                     0            1          3735.1380  \n",
       "1                     2            2           443.4228  \n",
       "2                     0            1          2097.2700  \n",
       "3                     2            0           732.3800  \n",
       "4                     2            1           994.7052  "
      ]
     },
     "execution_count": 4,
     "metadata": {},
     "output_type": "execute_result"
    }
   ],
   "source": [
    "train_data = pd.read_csv('Big_Mart_Train_Preprocessed.csv')\n",
    "print(train_data.shape)\n",
    "train_data.head()"
   ]
  },
  {
   "cell_type": "code",
   "execution_count": 12,
   "metadata": {},
   "outputs": [
    {
     "name": "stdout",
     "output_type": "stream",
     "text": [
      "(8523, 10)\n"
     ]
    },
    {
     "data": {
      "text/html": [
       "<div>\n",
       "<style scoped>\n",
       "    .dataframe tbody tr th:only-of-type {\n",
       "        vertical-align: middle;\n",
       "    }\n",
       "\n",
       "    .dataframe tbody tr th {\n",
       "        vertical-align: top;\n",
       "    }\n",
       "\n",
       "    .dataframe thead th {\n",
       "        text-align: right;\n",
       "    }\n",
       "</style>\n",
       "<table border=\"1\" class=\"dataframe\">\n",
       "  <thead>\n",
       "    <tr style=\"text-align: right;\">\n",
       "      <th></th>\n",
       "      <th>Item_Weight</th>\n",
       "      <th>Item_Fat_Content</th>\n",
       "      <th>Item_Visibility</th>\n",
       "      <th>Item_Type</th>\n",
       "      <th>Item_MRP</th>\n",
       "      <th>Outlet_Identifier</th>\n",
       "      <th>Outlet_Establishment_Year</th>\n",
       "      <th>Outlet_Size</th>\n",
       "      <th>Outlet_Location_Type</th>\n",
       "      <th>Outlet_Type</th>\n",
       "    </tr>\n",
       "  </thead>\n",
       "  <tbody>\n",
       "    <tr>\n",
       "      <th>0</th>\n",
       "      <td>9.30</td>\n",
       "      <td>0</td>\n",
       "      <td>0.016047</td>\n",
       "      <td>4</td>\n",
       "      <td>249.8092</td>\n",
       "      <td>9</td>\n",
       "      <td>18</td>\n",
       "      <td>1</td>\n",
       "      <td>0</td>\n",
       "      <td>1</td>\n",
       "    </tr>\n",
       "    <tr>\n",
       "      <th>1</th>\n",
       "      <td>5.92</td>\n",
       "      <td>1</td>\n",
       "      <td>0.019278</td>\n",
       "      <td>14</td>\n",
       "      <td>48.2692</td>\n",
       "      <td>3</td>\n",
       "      <td>8</td>\n",
       "      <td>1</td>\n",
       "      <td>2</td>\n",
       "      <td>2</td>\n",
       "    </tr>\n",
       "    <tr>\n",
       "      <th>2</th>\n",
       "      <td>17.50</td>\n",
       "      <td>0</td>\n",
       "      <td>0.016760</td>\n",
       "      <td>10</td>\n",
       "      <td>141.6180</td>\n",
       "      <td>9</td>\n",
       "      <td>18</td>\n",
       "      <td>1</td>\n",
       "      <td>0</td>\n",
       "      <td>1</td>\n",
       "    </tr>\n",
       "    <tr>\n",
       "      <th>3</th>\n",
       "      <td>19.20</td>\n",
       "      <td>1</td>\n",
       "      <td>0.000000</td>\n",
       "      <td>6</td>\n",
       "      <td>182.0950</td>\n",
       "      <td>0</td>\n",
       "      <td>19</td>\n",
       "      <td>1</td>\n",
       "      <td>2</td>\n",
       "      <td>0</td>\n",
       "    </tr>\n",
       "    <tr>\n",
       "      <th>4</th>\n",
       "      <td>8.93</td>\n",
       "      <td>0</td>\n",
       "      <td>0.000000</td>\n",
       "      <td>9</td>\n",
       "      <td>53.8614</td>\n",
       "      <td>1</td>\n",
       "      <td>30</td>\n",
       "      <td>0</td>\n",
       "      <td>2</td>\n",
       "      <td>1</td>\n",
       "    </tr>\n",
       "  </tbody>\n",
       "</table>\n",
       "</div>"
      ],
      "text/plain": [
       "   Item_Weight  Item_Fat_Content  Item_Visibility  Item_Type  Item_MRP  \\\n",
       "0         9.30                 0         0.016047          4  249.8092   \n",
       "1         5.92                 1         0.019278         14   48.2692   \n",
       "2        17.50                 0         0.016760         10  141.6180   \n",
       "3        19.20                 1         0.000000          6  182.0950   \n",
       "4         8.93                 0         0.000000          9   53.8614   \n",
       "\n",
       "   Outlet_Identifier  Outlet_Establishment_Year  Outlet_Size  \\\n",
       "0                  9                         18            1   \n",
       "1                  3                          8            1   \n",
       "2                  9                         18            1   \n",
       "3                  0                         19            1   \n",
       "4                  1                         30            0   \n",
       "\n",
       "   Outlet_Location_Type  Outlet_Type  \n",
       "0                     0            1  \n",
       "1                     2            2  \n",
       "2                     0            1  \n",
       "3                     2            0  \n",
       "4                     2            1  "
      ]
     },
     "execution_count": 12,
     "metadata": {},
     "output_type": "execute_result"
    }
   ],
   "source": [
    "tpot_train = train_data.iloc[:,:-1]\n",
    "print(tpot_train.shape)\n",
    "tpot_train.head()"
   ]
  },
  {
   "cell_type": "code",
   "execution_count": 8,
   "metadata": {},
   "outputs": [
    {
     "name": "stdout",
     "output_type": "stream",
     "text": [
      "8523\n"
     ]
    },
    {
     "data": {
      "text/plain": [
       "0    3735.1380\n",
       "1     443.4228\n",
       "2    2097.2700\n",
       "3     732.3800\n",
       "4     994.7052\n",
       "Name: Item_Outlet_Sales, dtype: float64"
      ]
     },
     "execution_count": 8,
     "metadata": {},
     "output_type": "execute_result"
    }
   ],
   "source": [
    "target = train_data.iloc[:,-1]\n",
    "print(len(target))\n",
    "target.head()"
   ]
  },
  {
   "cell_type": "code",
   "execution_count": 15,
   "metadata": {},
   "outputs": [],
   "source": [
    "X_train, X_val, y_train, y_val = train_test_split(tpot_train, target,\n",
    " train_size=0.75, test_size=0.25)"
   ]
  },
  {
   "cell_type": "code",
   "execution_count": 19,
   "metadata": {},
   "outputs": [
    {
     "name": "stdout",
     "output_type": "stream",
     "text": [
      "0\n"
     ]
    },
    {
     "data": {
      "application/vnd.jupyter.widget-view+json": {
       "model_id": "5ec91d9a609c411fae3569e6b726b5b5"
      }
     },
     "metadata": {},
     "output_type": "display_data"
    },
    {
     "name": "stdout",
     "output_type": "stream",
     "text": [
      "Generation 1 - Current best internal CV score: -1192429.06591\n",
      "Generation 2 - Current best internal CV score: -1189832.54309\n",
      "Generation 3 - Current best internal CV score: -1189832.54309\n",
      "Generation 4 - Current best internal CV score: -1184954.14\n",
      "Generation 5 - Current best internal CV score: -1183871.74403\n",
      "\n",
      "Best pipeline: ExtraTreesRegressor(RobustScaler(input_matrix), bootstrap=False, max_features=0.8, min_samples_leaf=20, min_samples_split=5, n_estimators=100)\n",
      "-1125293.57683\n",
      "1\n"
     ]
    },
    {
     "data": {
      "application/vnd.jupyter.widget-view+json": {
       "model_id": "a073b367a706439590bece6842f34cab"
      }
     },
     "metadata": {},
     "output_type": "display_data"
    },
    {
     "name": "stdout",
     "output_type": "stream",
     "text": [
      "Generation 1 - Current best internal CV score: -1195278.44618\n",
      "Generation 2 - Current best internal CV score: -1188827.95852\n",
      "Generation 3 - Current best internal CV score: -1182551.24937\n",
      "Generation 4 - Current best internal CV score: -1181564.24502\n",
      "Generation 5 - Current best internal CV score: -1181564.24502\n",
      "\n",
      "Best pipeline: ExtraTreesRegressor(SelectFwe(input_matrix, alpha=0.018), bootstrap=False, max_features=0.65, min_samples_leaf=10, min_samples_split=20, n_estimators=100)\n",
      "-1119006.32401\n",
      "2\n"
     ]
    },
    {
     "data": {
      "application/vnd.jupyter.widget-view+json": {
       "model_id": "e347d62a7fc24563aaf82ff4a104549e"
      }
     },
     "metadata": {},
     "output_type": "display_data"
    },
    {
     "name": "stdout",
     "output_type": "stream",
     "text": [
      "Generation 1 - Current best internal CV score: -1183996.65434\n",
      "Generation 2 - Current best internal CV score: -1182903.75659\n",
      "Generation 3 - Current best internal CV score: -1180972.83182\n",
      "Generation 4 - Current best internal CV score: -1178786.73987\n",
      "Generation 5 - Current best internal CV score: -1178786.73987\n",
      "\n",
      "Best pipeline: ExtraTreesRegressor(RidgeCV(LassoLarsCV(input_matrix, normalize=True)), bootstrap=True, max_features=0.4, min_samples_leaf=10, min_samples_split=10, n_estimators=100)\n",
      "-1122429.63203\n",
      "3\n"
     ]
    },
    {
     "data": {
      "application/vnd.jupyter.widget-view+json": {
       "model_id": "182d15c2d2b04c5cb7f66041f8281cdf"
      }
     },
     "metadata": {},
     "output_type": "display_data"
    },
    {
     "name": "stdout",
     "output_type": "stream",
     "text": [
      "Generation 1 - Current best internal CV score: -1183871.74403\n",
      "Generation 2 - Current best internal CV score: -1183871.74403\n",
      "Generation 3 - Current best internal CV score: -1183871.74403\n",
      "Generation 4 - Current best internal CV score: -1178538.30484\n",
      "Generation 5 - Current best internal CV score: -1178538.30484\n",
      "\n",
      "Best pipeline: ExtraTreesRegressor(ElasticNetCV(SelectPercentile(input_matrix, percentile=18), l1_ratio=0.35, tol=0.0001), bootstrap=False, max_features=0.85, min_samples_leaf=20, min_samples_split=19, n_estimators=100)\n",
      "-1121194.76123\n",
      "4\n"
     ]
    },
    {
     "data": {
      "application/vnd.jupyter.widget-view+json": {
       "model_id": "f84325794060409c891e06a1f3933ee5"
      }
     },
     "metadata": {},
     "output_type": "display_data"
    },
    {
     "name": "stdout",
     "output_type": "stream",
     "text": [
      "Generation 1 - Current best internal CV score: -1179876.09176\n",
      "Generation 2 - Current best internal CV score: -1179876.09176\n",
      "Generation 3 - Current best internal CV score: -1179876.09176\n",
      "Generation 4 - Current best internal CV score: -1179876.09176\n",
      "Generation 5 - Current best internal CV score: -1179876.09176\n",
      "\n",
      "Best pipeline: ExtraTreesRegressor(SelectFwe(input_matrix, alpha=0.015), bootstrap=True, max_features=0.75, min_samples_leaf=16, min_samples_split=2, n_estimators=100)\n",
      "-1119358.04475\n"
     ]
    }
   ],
   "source": [
    "# for each seed, find a tpot selected model\n",
    "seeds = range(5)\n",
    "for seed in seeds:\n",
    "    print(seed)\n",
    "    tpot_estimator = TPOTRegressor(generations=5, population_size=50, verbosity=2, random_state=seed)\n",
    "    tpot_estimator.fit(X_train, y_train)\n",
    "    print(tpot_estimator.score(X_val, y_val))   # By default neg mean squared error (neg MSE), larger indicates better\n",
    "    tpot_estimator.export('tpot_bigmart_pipeline'+str(seed)+'.py')"
   ]
  },
  {
   "cell_type": "markdown",
   "metadata": {},
   "source": [
    "## Spot-Check Model Selection\n",
    "\n",
    "* List potential models with initial optimized params from TPOT\n",
    "  * Although I did  data preprocessing before using TPOT, it will still do some preprocessing for you.\n",
    "* calculate average evaluation result and variance\n",
    "  * All the scoring str in sklearn: https://scikit-learn.org/stable/modules/model_evaluation.html#scoring-parameter"
   ]
  },
  {
   "cell_type": "code",
   "execution_count": 28,
   "metadata": {},
   "outputs": [],
   "source": [
    "from sklearn.ensemble import ExtraTreesRegressor\n",
    "from sklearn.pipeline import make_pipeline\n",
    "from sklearn.preprocessing import RobustScaler\n",
    "from sklearn.linear_model import LassoLarsCV, RidgeCV, ElasticNetCV\n",
    "from sklearn.feature_selection import SelectFwe, f_regression, SelectPercentile\n",
    "from tpot.builtins import StackingEstimator\n",
    "from sklearn.model_selection import cross_val_score\n",
    "\n",
    "pipeline_lst = [make_pipeline(\n",
    "    RobustScaler(),\n",
    "    ExtraTreesRegressor(bootstrap=False, max_features=0.8, min_samples_leaf=20, min_samples_split=5, n_estimators=100)),\n",
    "    \n",
    "    make_pipeline(\n",
    "    SelectFwe(score_func=f_regression, alpha=0.018),\n",
    "    ExtraTreesRegressor(bootstrap=False, max_features=0.65, min_samples_leaf=10, min_samples_split=20, n_estimators=100)),\n",
    "        \n",
    "    make_pipeline(\n",
    "    StackingEstimator(estimator=LassoLarsCV(normalize=True)),\n",
    "    StackingEstimator(estimator=RidgeCV()),\n",
    "    ExtraTreesRegressor(bootstrap=True, max_features=0.4, min_samples_leaf=10, min_samples_split=10, n_estimators=100)),\n",
    "                \n",
    "    make_pipeline(\n",
    "    SelectPercentile(score_func=f_regression, percentile=18),\n",
    "    StackingEstimator(estimator=ElasticNetCV(l1_ratio=0.35, tol=0.0001)),\n",
    "    ExtraTreesRegressor(bootstrap=False, max_features=0.85, min_samples_leaf=20, min_samples_split=19, n_estimators=100)),\n",
    "                \n",
    "    make_pipeline(\n",
    "    SelectFwe(score_func=f_regression, alpha=0.015),\n",
    "    ExtraTreesRegressor(bootstrap=True, max_features=0.75, min_samples_leaf=16, min_samples_split=2, n_estimators=100))]"
   ]
  },
  {
   "cell_type": "code",
   "execution_count": 29,
   "metadata": {
    "collapsed": true
   },
   "outputs": [],
   "source": [
    "def evaluate_models(X, y, pipeline_lst, metric='neg_mean_squared_error', cv_folds=10): # by default cv is stratified kfold\n",
    "    agg_score_lst = []\n",
    "    for pipeline in pipeline_lst:\n",
    "        print(pipeline)\n",
    "        scores = cross_val_score(pipeline, X, y, scoring=metric, cv=cv_folds, n_jobs=-1)\n",
    "        avg_score = np.mean(scores)\n",
    "        score_std = np.std(scores)\n",
    "        agg_score_lst.append((avg_score, score_std))\n",
    "    return agg_score_lst"
   ]
  },
  {
   "cell_type": "code",
   "execution_count": 30,
   "metadata": {},
   "outputs": [
    {
     "name": "stdout",
     "output_type": "stream",
     "text": [
      "Pipeline(memory=None,\n",
      "     steps=[('robustscaler', RobustScaler(copy=True, quantile_range=(25.0, 75.0), with_centering=True,\n",
      "       with_scaling=True)), ('extratreesregressor', ExtraTreesRegressor(bootstrap=False, criterion='mse', max_depth=None,\n",
      "          max_features=0.8, max_leaf_nodes=None, min_impurity_decrease=0.0,\n",
      "    ...ators=100, n_jobs=None, oob_score=False,\n",
      "          random_state=None, verbose=0, warm_start=False))])\n",
      "Pipeline(memory=None,\n",
      "     steps=[('selectfwe', SelectFwe(alpha=0.018, score_func=<function f_regression at 0x1a17c278c0>)), ('extratreesregressor', ExtraTreesRegressor(bootstrap=False, criterion='mse', max_depth=None,\n",
      "          max_features=0.65, max_leaf_nodes=None,\n",
      "          min_impurity_decrease=0.0, min_impurity_split=No...ators=100, n_jobs=None,\n",
      "          oob_score=False, random_state=None, verbose=0, warm_start=False))])\n",
      "Pipeline(memory=None,\n",
      "     steps=[('stackingestimator-1', StackingEstimator(estimator=LassoLarsCV(copy_X=True, cv='warn', eps=2.2204460492503131e-16,\n",
      "      fit_intercept=True, max_iter=500, max_n_alphas=1000, n_jobs=None,\n",
      "      normalize=True, positive=False, precompute='auto', verbose=False))), ('stackingestimator-2', Stacki...ators=100, n_jobs=None, oob_score=False,\n",
      "          random_state=None, verbose=0, warm_start=False))])\n",
      "Pipeline(memory=None,\n",
      "     steps=[('selectpercentile', SelectPercentile(percentile=18,\n",
      "         score_func=<function f_regression at 0x1a17c278c0>)), ('stackingestimator', StackingEstimator(estimator=ElasticNetCV(alphas=None, copy_X=True, cv='warn', eps=0.001,\n",
      "       fit_intercept=True, l1_ratio=0.35, max_iter=1000, n_alphas=...ators=100, n_jobs=None,\n",
      "          oob_score=False, random_state=None, verbose=0, warm_start=False))])\n",
      "Pipeline(memory=None,\n",
      "     steps=[('selectfwe', SelectFwe(alpha=0.015, score_func=<function f_regression at 0x1a17c278c0>)), ('extratreesregressor', ExtraTreesRegressor(bootstrap=True, criterion='mse', max_depth=None,\n",
      "          max_features=0.75, max_leaf_nodes=None,\n",
      "          min_impurity_decrease=0.0, min_impurity_split=Non...ators=100, n_jobs=None,\n",
      "          oob_score=False, random_state=None, verbose=0, warm_start=False))])\n"
     ]
    }
   ],
   "source": [
    "agg_score_lst = evaluate_models(tpot_train, target, pipeline_lst)"
   ]
  },
  {
   "cell_type": "code",
   "execution_count": 31,
   "metadata": {},
   "outputs": [
    {
     "name": "stdout",
     "output_type": "stream",
     "text": [
      "[(-1166438.9446668164, 42581.834765934145), (-1163621.7129955809, 42356.911860905471), (-1164530.0664142575, 40158.963808928522), (-1163390.391937614, 39140.044374774894), (-1162337.9632020867, 42195.489678611018)]\n"
     ]
    }
   ],
   "source": [
    "print(agg_score_lst)"
   ]
  },
  {
   "cell_type": "markdown",
   "metadata": {},
   "source": [
    "So base on the spot check here, the last second pipeline is better in both avg score and score variance.\n",
    "\n",
    "`make_pipeline(\n",
    "    SelectPercentile(score_func=f_regression, percentile=18),\n",
    "    StackingEstimator(estimator=ElasticNetCV(l1_ratio=0.35, tol=0.0001)),\n",
    "    ExtraTreesRegressor(bootstrap=False, max_features=0.85, min_samples_leaf=20, min_samples_split=19, n_estimators=100))`"
   ]
  }
 ],
 "metadata": {
  "kernelspec": {
   "display_name": "Python 2",
   "language": "python",
   "name": "python2"
  },
  "language_info": {
   "codemirror_mode": {
    "name": "ipython",
    "version": 2
   },
   "file_extension": ".py",
   "mimetype": "text/x-python",
   "name": "python",
   "nbconvert_exporter": "python",
   "pygments_lexer": "ipython2",
   "version": "2.7.6"
  }
 },
 "nbformat": 4,
 "nbformat_minor": 2
}
