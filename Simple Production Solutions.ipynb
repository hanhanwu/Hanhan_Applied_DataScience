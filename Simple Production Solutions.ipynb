{
 "cells": [
  {
   "cell_type": "markdown",
   "metadata": {},
   "source": [
    "# Simple Production Solutions\n",
    "\n",
    "There are some simple solutions which can help production deployment a lot. I'm writting down the simple methods I am using."
   ]
  },
  {
   "cell_type": "markdown",
   "metadata": {},
   "source": [
    "## Production Discrepency\n",
    "\n",
    "One of the most painful experiences in industry is to deal with production discrepency. There will be so much technical limitation that made developers impossible to do the same thing as you did when deploy data science methods on production."
   ]
  },
  {
   "cell_type": "markdown",
   "metadata": {},
   "source": [
    "### Case 1 - Minor Difference in Prediction Scores\n",
    "\n",
    "* Problem:\n",
    "  * Imagine, production team needs to develop all the features you have developed, but because of the difference between languages, floating methods and so on, there could be 1,2 features always have minor difference as your values. Because of the time limitation, they have to deploy asap. So now they are asking, what if there is minor difference in prediction score, is that ok?\n",
    "\n",
    "* Answer:\n",
    "  * First of all, check how much TP, TN, FP, FN they got, comparing with your results. Think about the cost at client side. For example, to client A, missing 1 TP means losing thousands of lives, then you have to be very very careful\n",
    "  * If the cost and evaluation results are within the range, and you have to add some taste of statistics to make everyone feel better, there is a simple solution - p-value & null hypothesis\n",
    "    * NULL Hypothesis: the 2 data sets matches to each other\n",
    "    * significance level: 0.05"
   ]
  },
  {
   "cell_type": "code",
   "execution_count": 4,
   "metadata": {},
   "outputs": [
    {
     "name": "stdout",
     "output_type": "stream",
     "text": [
      "Ttest_indResult(statistic=-0.65244947499581207, pvalue=0.51426150361443312)\n"
     ]
    }
   ],
   "source": [
    "from scipy import stats\n",
    "\n",
    "ds_data = stats.norm.rvs(loc = 5,scale = 10,size = 500)\n",
    "prod_data = stats.norm.rvs(loc = 5.1,scale = 10,size = 500)\n",
    "print stats.ttest_ind(ds_data, prod_data)"
   ]
  },
  {
   "cell_type": "markdown",
   "metadata": {},
   "source": [
    "In the example above, p-value is higher than significant level, so null hypothesis is correct, and you can just let production pass."
   ]
  }
 ],
 "metadata": {
  "kernelspec": {
   "display_name": "Python 2",
   "language": "python",
   "name": "python2"
  },
  "language_info": {
   "codemirror_mode": {
    "name": "ipython",
    "version": 2
   },
   "file_extension": ".py",
   "mimetype": "text/x-python",
   "name": "python",
   "nbconvert_exporter": "python",
   "pygments_lexer": "ipython2",
   "version": "2.7.6"
  }
 },
 "nbformat": 4,
 "nbformat_minor": 2
}
