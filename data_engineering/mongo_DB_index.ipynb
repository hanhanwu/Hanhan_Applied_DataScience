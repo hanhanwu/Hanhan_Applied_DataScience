{
 "cells": [
  {
   "cell_type": "code",
   "execution_count": 1,
   "metadata": {},
   "outputs": [],
   "source": [
    "import pymongo\n",
    "import pprint\n",
    "import json\n",
    "from pprint import pprint\n",
    "\n",
    "import warnings\n",
    "warnings.filterwarnings('ignore')"
   ]
  },
  {
   "cell_type": "code",
   "execution_count": 8,
   "metadata": {},
   "outputs": [],
   "source": [
    "with open('credential.json') as jfile:\n",
    "    credential = json.load(jfile)"
   ]
  },
  {
   "cell_type": "markdown",
   "metadata": {},
   "source": [
    "### Load Sample Data Through MongoDB Atlas\n",
    "\n",
    "* Go to your Atlas account, click \"Collections\"\n",
    "* Click \"Load Sample Data\"\n",
    "* You can also see the data structure as well as some sample values through Atlas"
   ]
  },
  {
   "cell_type": "code",
   "execution_count": 7,
   "metadata": {},
   "outputs": [
    {
     "data": {
      "text/plain": [
       "['sample_airbnb',\n",
       " 'sample_analytics',\n",
       " 'sample_geospatial',\n",
       " 'sample_mflix',\n",
       " 'sample_restaurants',\n",
       " 'sample_supplies',\n",
       " 'sample_training',\n",
       " 'sample_weatherdata',\n",
       " 'admin',\n",
       " 'local']"
      ]
     },
     "execution_count": 7,
     "metadata": {},
     "output_type": "execute_result"
    }
   ],
   "source": [
    "# connect to the mongoclient\n",
    "connection_str = credential['connection_str']\n",
    "client = pymongo.MongoClient(connection_str)\n",
    "\n",
    "client.list_database_names()"
   ]
  },
  {
   "cell_type": "code",
   "execution_count": 9,
   "metadata": {},
   "outputs": [
    {
     "data": {
      "text/plain": [
       "['restaurants', 'neighborhoods']"
      ]
     },
     "execution_count": 9,
     "metadata": {},
     "output_type": "execute_result"
    }
   ],
   "source": [
    "db = client.sample_restaurants\n",
    "\n",
    "db.list_collection_names()  # a collection is like a table"
   ]
  },
  {
   "cell_type": "code",
   "execution_count": 11,
   "metadata": {},
   "outputs": [
    {
     "name": "stdout",
     "output_type": "stream",
     "text": [
      "25359\n",
      "195\n"
     ]
    }
   ],
   "source": [
    "# count the number of documents in each collection\n",
    "print(db['restaurants'].find().count())\n",
    "print(db['neighborhoods'].find().count())"
   ]
  },
  {
   "cell_type": "code",
   "execution_count": 12,
   "metadata": {},
   "outputs": [
    {
     "data": {
      "text/plain": [
       "{'_id': ObjectId('5eb3d668b31de5d588f4292a'),\n",
       " 'address': {'building': '2780',\n",
       "  'coord': [-73.98241999999999, 40.579505],\n",
       "  'street': 'Stillwell Avenue',\n",
       "  'zipcode': '11224'},\n",
       " 'borough': 'Brooklyn',\n",
       " 'cuisine': 'American',\n",
       " 'grades': [{'date': datetime.datetime(2014, 6, 10, 0, 0),\n",
       "   'grade': 'A',\n",
       "   'score': 5},\n",
       "  {'date': datetime.datetime(2013, 6, 5, 0, 0), 'grade': 'A', 'score': 7},\n",
       "  {'date': datetime.datetime(2012, 4, 13, 0, 0), 'grade': 'A', 'score': 12},\n",
       "  {'date': datetime.datetime(2011, 10, 12, 0, 0), 'grade': 'A', 'score': 12}],\n",
       " 'name': 'Riviera Caterer',\n",
       " 'restaurant_id': '40356018'}"
      ]
     },
     "execution_count": 12,
     "metadata": {},
     "output_type": "execute_result"
    }
   ],
   "source": [
    "db['restaurants'].find_one()"
   ]
  },
  {
   "cell_type": "code",
   "execution_count": 14,
   "metadata": {},
   "outputs": [
    {
     "data": {
      "text/plain": [
       "dict_keys(['_id', 'geometry', 'name'])"
      ]
     },
     "execution_count": 14,
     "metadata": {},
     "output_type": "execute_result"
    }
   ],
   "source": [
    "db['neighborhoods'].find_one().keys()"
   ]
  },
  {
   "cell_type": "markdown",
   "metadata": {},
   "source": [
    "## MongoDB Index\n",
    "\n",
    "### Default Index\n",
    "\n",
    "* By default, mongoDB gives an id to each document in a collection, this is the default index of each collection.\n",
    "* However, it's using \"COLLSCAN\" (collection scan), which means MongoDB needs to scan every document in a collection to look for the relevant documents.\n",
    "* Default index can never be dropped"
   ]
  },
  {
   "cell_type": "code",
   "execution_count": 16,
   "metadata": {},
   "outputs": [
    {
     "name": "stdout",
     "output_type": "stream",
     "text": [
      "{'_id_': {'v': 2, 'key': [('_id', 1)], 'ns': 'sample_restaurants.restaurants'}}\n",
      "{'_id_': {'v': 2, 'key': [('_id', 1)], 'ns': 'sample_restaurants.neighborhoods'}}\n"
     ]
    }
   ],
   "source": [
    "print(db.restaurants.index_information())\n",
    "print(db.neighborhoods.index_information())"
   ]
  },
  {
   "cell_type": "code",
   "execution_count": 17,
   "metadata": {},
   "outputs": [
    {
     "name": "stdout",
     "output_type": "stream",
     "text": [
      "{'$clusterTime': {'clusterTime': Timestamp(1600551368, 1),\n",
      "                  'signature': {'hash': b'R\\xeey\\xf5{\\xf7\\xf2\\xec\\xb2^\\xfe\\x9a'\n",
      "                                        b'.\\xf3\\xb8\\x8d\\x81K\\x81\"',\n",
      "                                'keyId': 6873329467658338307}},\n",
      " 'executionStats': {'allPlansExecution': [],\n",
      "                    'executionStages': {'advanced': 25359,\n",
      "                                        'direction': 'forward',\n",
      "                                        'docsExamined': 25359,\n",
      "                                        'executionTimeMillisEstimate': 1,\n",
      "                                        'isEOF': 1,\n",
      "                                        'nReturned': 25359,\n",
      "                                        'needTime': 1,\n",
      "                                        'needYield': 0,\n",
      "                                        'restoreState': 198,\n",
      "                                        'saveState': 198,\n",
      "                                        'stage': 'COLLSCAN',\n",
      "                                        'works': 25361},\n",
      "                    'executionSuccess': True,\n",
      "                    'executionTimeMillis': 8,\n",
      "                    'nReturned': 25359,\n",
      "                    'totalDocsExamined': 25359,\n",
      "                    'totalKeysExamined': 0},\n",
      " 'ok': 1.0,\n",
      " 'operationTime': Timestamp(1600551368, 1),\n",
      " 'queryPlanner': {'indexFilterSet': False,\n",
      "                  'namespace': 'sample_restaurants.restaurants',\n",
      "                  'parsedQuery': {},\n",
      "                  'plannerVersion': 1,\n",
      "                  'rejectedPlans': [],\n",
      "                  'winningPlan': {'direction': 'forward', 'stage': 'COLLSCAN'}},\n",
      " 'serverInfo': {'gitVersion': '06402114114ffc5146fd4b55402c96f1dc9ec4b5',\n",
      "                'host': 'hanhan-cluster-shard-00-01.r147a.mongodb.net',\n",
      "                'port': 27017,\n",
      "                'version': '4.2.9'}}\n"
     ]
    }
   ],
   "source": [
    "pprint(db.restaurants.find().explain())"
   ]
  },
  {
   "cell_type": "markdown",
   "metadata": {},
   "source": [
    "💡 If we check `executionStats` here, \"stage\" is \"COLLSCAN\" indicates it's using the collection scan. Therefore, `nReturned` and `totalDocsExamined` have the same amount of value, which is also the total number of documents, same as `db['restaurants'].find().count()` output."
   ]
  },
  {
   "cell_type": "markdown",
   "metadata": {},
   "source": [
    "### Type 1 Index - Single Field Index\n",
    "\n",
    "* NOTE: cannot create the same index with different index names"
   ]
  },
  {
   "cell_type": "code",
   "execution_count": 19,
   "metadata": {},
   "outputs": [
    {
     "name": "stdout",
     "output_type": "stream",
     "text": [
      "{'allPlansExecution': [],\n",
      " 'executionStages': {'advanced': 2418,\n",
      "                     'direction': 'forward',\n",
      "                     'docsExamined': 25359,\n",
      "                     'executionTimeMillisEstimate': 1,\n",
      "                     'filter': {'cuisine': {'$eq': 'Chinese'}},\n",
      "                     'isEOF': 1,\n",
      "                     'nReturned': 2418,\n",
      "                     'needTime': 22942,\n",
      "                     'needYield': 0,\n",
      "                     'restoreState': 198,\n",
      "                     'saveState': 198,\n",
      "                     'stage': 'COLLSCAN',\n",
      "                     'works': 25361},\n",
      " 'executionSuccess': True,\n",
      " 'executionTimeMillis': 10,\n",
      " 'nReturned': 2418,\n",
      " 'totalDocsExamined': 25359,\n",
      " 'totalKeysExamined': 0}\n"
     ]
    }
   ],
   "source": [
    "# Without the index, it's COLLSCAN\n",
    "pprint(db.restaurants.find({'cuisine':'Chinese'}).explain()['executionStats'])"
   ]
  },
  {
   "cell_type": "code",
   "execution_count": 20,
   "metadata": {},
   "outputs": [
    {
     "name": "stdout",
     "output_type": "stream",
     "text": [
      "{'allPlansExecution': [],\n",
      " 'executionStages': {'advanced': 2418,\n",
      "                     'alreadyHasObj': 0,\n",
      "                     'docsExamined': 2418,\n",
      "                     'executionTimeMillisEstimate': 0,\n",
      "                     'inputStage': {'advanced': 2418,\n",
      "                                    'direction': 'forward',\n",
      "                                    'dupsDropped': 0,\n",
      "                                    'dupsTested': 0,\n",
      "                                    'executionTimeMillisEstimate': 0,\n",
      "                                    'indexBounds': {'cuisine': ['[\"Chinese\", '\n",
      "                                                                '\"Chinese\"]']},\n",
      "                                    'indexName': 'idx_cusine',\n",
      "                                    'indexVersion': 2,\n",
      "                                    'isEOF': 1,\n",
      "                                    'isMultiKey': False,\n",
      "                                    'isPartial': False,\n",
      "                                    'isSparse': False,\n",
      "                                    'isUnique': False,\n",
      "                                    'keyPattern': {'cuisine': 1},\n",
      "                                    'keysExamined': 2418,\n",
      "                                    'multiKeyPaths': {'cuisine': []},\n",
      "                                    'nReturned': 2418,\n",
      "                                    'needTime': 0,\n",
      "                                    'needYield': 0,\n",
      "                                    'restoreState': 18,\n",
      "                                    'saveState': 18,\n",
      "                                    'seeks': 1,\n",
      "                                    'stage': 'IXSCAN',\n",
      "                                    'works': 2419},\n",
      "                     'isEOF': 1,\n",
      "                     'nReturned': 2418,\n",
      "                     'needTime': 0,\n",
      "                     'needYield': 0,\n",
      "                     'restoreState': 18,\n",
      "                     'saveState': 18,\n",
      "                     'stage': 'FETCH',\n",
      "                     'works': 2419},\n",
      " 'executionSuccess': True,\n",
      " 'executionTimeMillis': 4,\n",
      " 'nReturned': 2418,\n",
      " 'totalDocsExamined': 2418,\n",
      " 'totalKeysExamined': 2418}\n"
     ]
    }
   ],
   "source": [
    "# With the index\n",
    "db.restaurants.create_index('cuisine', name='idx_cusine')\n",
    "\n",
    "pprint(db.restaurants.find({'cuisine':'Chinese'}).explain()['executionStats'])"
   ]
  },
  {
   "cell_type": "markdown",
   "metadata": {},
   "source": [
    "💡 \n",
    "* Based on the comparison results here, after creating the index, the execution time and examined documents all decreased, \"stage\" has become \"IXSCAN\" which means scan with index\n",
    "* In `create_index()` we can set `unique=True` if the index value has no duplicates, otherwise this setting will get duplicated index error"
   ]
  },
  {
   "cell_type": "code",
   "execution_count": 25,
   "metadata": {},
   "outputs": [
    {
     "data": {
      "text/plain": [
       "{'_id_': {'v': 2, 'key': [('_id', 1)], 'ns': 'sample_restaurants.restaurants'},\n",
       " 'idx_cusine': {'v': 2,\n",
       "  'key': [('cuisine', 1)],\n",
       "  'ns': 'sample_restaurants.restaurants'}}"
      ]
     },
     "execution_count": 25,
     "metadata": {},
     "output_type": "execute_result"
    }
   ],
   "source": [
    "# here you can see index \"idx_cusine\" got created\n",
    "db.restaurants.index_information()"
   ]
  },
  {
   "cell_type": "code",
   "execution_count": 26,
   "metadata": {},
   "outputs": [
    {
     "data": {
      "text/plain": [
       "{'_id_': {'v': 2, 'key': [('_id', 1)], 'ns': 'sample_restaurants.restaurants'}}"
      ]
     },
     "execution_count": 26,
     "metadata": {},
     "output_type": "execute_result"
    }
   ],
   "source": [
    "# to drop the index\n",
    "db.restaurants.drop_index('idx_cusine')\n",
    "\n",
    "db.restaurants.index_information()"
   ]
  },
  {
   "cell_type": "markdown",
   "metadata": {},
   "source": [
    "### Type 2 Index - Compound Index\n",
    "\n",
    "* it creates the index on multiple fields"
   ]
  },
  {
   "cell_type": "code",
   "execution_count": 32,
   "metadata": {},
   "outputs": [
    {
     "data": {
      "text/plain": [
       "{'_id': ObjectId('5eb3d668b31de5d588f42936'),\n",
       " 'address': {'building': '1269',\n",
       "  'coord': [-73.871194, 40.6730975],\n",
       "  'street': 'Sutter Avenue',\n",
       "  'zipcode': '11208'},\n",
       " 'borough': 'Brooklyn',\n",
       " 'cuisine': 'Chinese',\n",
       " 'grades': [{'date': datetime.datetime(2014, 9, 16, 0, 0),\n",
       "   'grade': 'B',\n",
       "   'score': 21},\n",
       "  {'date': datetime.datetime(2013, 8, 28, 0, 0), 'grade': 'A', 'score': 7},\n",
       "  {'date': datetime.datetime(2013, 4, 2, 0, 0), 'grade': 'C', 'score': 56},\n",
       "  {'date': datetime.datetime(2012, 8, 15, 0, 0), 'grade': 'B', 'score': 27},\n",
       "  {'date': datetime.datetime(2012, 3, 28, 0, 0), 'grade': 'B', 'score': 27}],\n",
       " 'name': 'May May Kitchen',\n",
       " 'restaurant_id': '40358429'}"
      ]
     },
     "execution_count": 32,
     "metadata": {},
     "output_type": "execute_result"
    }
   ],
   "source": [
    "db.restaurants.find_one({'cuisine':'Chinese'})"
   ]
  },
  {
   "cell_type": "code",
   "execution_count": 33,
   "metadata": {},
   "outputs": [
    {
     "name": "stdout",
     "output_type": "stream",
     "text": [
      "{'allPlansExecution': [],\n",
      " 'executionStages': {'advanced': 763,\n",
      "                     'direction': 'forward',\n",
      "                     'docsExamined': 25359,\n",
      "                     'executionTimeMillisEstimate': 0,\n",
      "                     'filter': {'$and': [{'borough': {'$eq': 'Brooklyn'}},\n",
      "                                         {'cuisine': {'$eq': 'Chinese'}}]},\n",
      "                     'isEOF': 1,\n",
      "                     'nReturned': 763,\n",
      "                     'needTime': 24597,\n",
      "                     'needYield': 0,\n",
      "                     'restoreState': 198,\n",
      "                     'saveState': 198,\n",
      "                     'stage': 'COLLSCAN',\n",
      "                     'works': 25361},\n",
      " 'executionSuccess': True,\n",
      " 'executionTimeMillis': 11,\n",
      " 'nReturned': 763,\n",
      " 'totalDocsExamined': 25359,\n",
      " 'totalKeysExamined': 0}\n"
     ]
    }
   ],
   "source": [
    "# Without the index\n",
    "pprint(db.restaurants.find({'borough':'Brooklyn','cuisine':'Chinese'}).explain()['executionStats'])"
   ]
  },
  {
   "cell_type": "code",
   "execution_count": 34,
   "metadata": {},
   "outputs": [
    {
     "name": "stdout",
     "output_type": "stream",
     "text": [
      "{'_id_': {'key': [('_id', 1)], 'ns': 'sample_restaurants.restaurants', 'v': 2},\n",
      " 'idx_borough_cuisine': {'key': [('borough', 1), ('cuisine', -1)],\n",
      "                         'ns': 'sample_restaurants.restaurants',\n",
      "                         'v': 2}}\n"
     ]
    }
   ],
   "source": [
    "# With the index\n",
    "db.restaurants.create_index([('borough',pymongo.ASCENDING),\n",
    "                            ('cuisine',pymongo.DESCENDING)],\n",
    "                            name='idx_borough_cuisine')\n",
    "# Get indexes\n",
    "pprint(db.restaurants.index_information())"
   ]
  },
  {
   "cell_type": "code",
   "execution_count": 35,
   "metadata": {},
   "outputs": [
    {
     "name": "stdout",
     "output_type": "stream",
     "text": [
      "{'allPlansExecution': [],\n",
      " 'executionStages': {'advanced': 763,\n",
      "                     'alreadyHasObj': 0,\n",
      "                     'docsExamined': 763,\n",
      "                     'executionTimeMillisEstimate': 0,\n",
      "                     'inputStage': {'advanced': 763,\n",
      "                                    'direction': 'forward',\n",
      "                                    'dupsDropped': 0,\n",
      "                                    'dupsTested': 0,\n",
      "                                    'executionTimeMillisEstimate': 0,\n",
      "                                    'indexBounds': {'borough': ['[\"Brooklyn\", '\n",
      "                                                                '\"Brooklyn\"]'],\n",
      "                                                    'cuisine': ['[\"Chinese\", '\n",
      "                                                                '\"Chinese\"]']},\n",
      "                                    'indexName': 'idx_borough_cuisine',\n",
      "                                    'indexVersion': 2,\n",
      "                                    'isEOF': 1,\n",
      "                                    'isMultiKey': False,\n",
      "                                    'isPartial': False,\n",
      "                                    'isSparse': False,\n",
      "                                    'isUnique': False,\n",
      "                                    'keyPattern': {'borough': 1, 'cuisine': -1},\n",
      "                                    'keysExamined': 763,\n",
      "                                    'multiKeyPaths': {'borough': [],\n",
      "                                                      'cuisine': []},\n",
      "                                    'nReturned': 763,\n",
      "                                    'needTime': 0,\n",
      "                                    'needYield': 0,\n",
      "                                    'restoreState': 5,\n",
      "                                    'saveState': 5,\n",
      "                                    'seeks': 1,\n",
      "                                    'stage': 'IXSCAN',\n",
      "                                    'works': 764},\n",
      "                     'isEOF': 1,\n",
      "                     'nReturned': 763,\n",
      "                     'needTime': 0,\n",
      "                     'needYield': 0,\n",
      "                     'restoreState': 5,\n",
      "                     'saveState': 5,\n",
      "                     'stage': 'FETCH',\n",
      "                     'works': 764},\n",
      " 'executionSuccess': True,\n",
      " 'executionTimeMillis': 2,\n",
      " 'nReturned': 763,\n",
      " 'totalDocsExamined': 763,\n",
      " 'totalKeysExamined': 763}\n"
     ]
    }
   ],
   "source": [
    "pprint(db.restaurants.find({'borough':'Brooklyn','cuisine':'Chinese'}).explain()['executionStats'])"
   ]
  },
  {
   "cell_type": "markdown",
   "metadata": {},
   "source": [
    "### Type 3 Index - Multikey Index\n",
    "\n",
    "* It creates index on fileds that're in array format"
   ]
  },
  {
   "cell_type": "code",
   "execution_count": 37,
   "metadata": {},
   "outputs": [
    {
     "data": {
      "text/plain": [
       "[{'date': datetime.datetime(2014, 9, 16, 0, 0), 'grade': 'B', 'score': 21},\n",
       " {'date': datetime.datetime(2013, 8, 28, 0, 0), 'grade': 'A', 'score': 7},\n",
       " {'date': datetime.datetime(2013, 4, 2, 0, 0), 'grade': 'C', 'score': 56},\n",
       " {'date': datetime.datetime(2012, 8, 15, 0, 0), 'grade': 'B', 'score': 27},\n",
       " {'date': datetime.datetime(2012, 3, 28, 0, 0), 'grade': 'B', 'score': 27}]"
      ]
     },
     "execution_count": 37,
     "metadata": {},
     "output_type": "execute_result"
    }
   ],
   "source": [
    "db.restaurants.find_one({'cuisine':'Chinese'})['grades']"
   ]
  },
  {
   "cell_type": "code",
   "execution_count": 42,
   "metadata": {},
   "outputs": [
    {
     "data": {
      "text/plain": [
       "['A', 'B', 'C', 'Not Yet Graded', 'P', 'Z']"
      ]
     },
     "execution_count": 42,
     "metadata": {},
     "output_type": "execute_result"
    }
   ],
   "source": [
    "db.restaurants.distinct('grades.grade')"
   ]
  },
  {
   "cell_type": "code",
   "execution_count": 43,
   "metadata": {},
   "outputs": [
    {
     "name": "stdout",
     "output_type": "stream",
     "text": [
      "{'allPlansExecution': [],\n",
      " 'executionStages': {'advanced': 1337,\n",
      "                     'direction': 'forward',\n",
      "                     'docsExamined': 25359,\n",
      "                     'executionTimeMillisEstimate': 0,\n",
      "                     'filter': {'grades.grade': {'$eq': 'Z'}},\n",
      "                     'isEOF': 1,\n",
      "                     'nReturned': 1337,\n",
      "                     'needTime': 24023,\n",
      "                     'needYield': 0,\n",
      "                     'restoreState': 198,\n",
      "                     'saveState': 198,\n",
      "                     'stage': 'COLLSCAN',\n",
      "                     'works': 25361},\n",
      " 'executionSuccess': True,\n",
      " 'executionTimeMillis': 26,\n",
      " 'nReturned': 1337,\n",
      " 'totalDocsExamined': 25359,\n",
      " 'totalKeysExamined': 0}\n"
     ]
    }
   ],
   "source": [
    "pprint(db.restaurants.find({'grades.grade':'Z'}).explain()[\"executionStats\"])"
   ]
  },
  {
   "cell_type": "code",
   "execution_count": 44,
   "metadata": {},
   "outputs": [
    {
     "name": "stdout",
     "output_type": "stream",
     "text": [
      "{'_id_': {'key': [('_id', 1)], 'ns': 'sample_restaurants.restaurants', 'v': 2},\n",
      " 'idx_borough_cuisine': {'key': [('borough', 1), ('cuisine', -1)],\n",
      "                         'ns': 'sample_restaurants.restaurants',\n",
      "                         'v': 2},\n",
      " 'idx_grade': {'key': [('grades.grade', 1)],\n",
      "               'ns': 'sample_restaurants.restaurants',\n",
      "               'v': 2}}\n"
     ]
    }
   ],
   "source": [
    "db.restaurants.create_index('grades.grade', name='idx_grade')\n",
    "\n",
    "# List indexes\n",
    "pprint(db.restaurants.index_information())"
   ]
  },
  {
   "cell_type": "code",
   "execution_count": 45,
   "metadata": {},
   "outputs": [
    {
     "name": "stdout",
     "output_type": "stream",
     "text": [
      "{'allPlansExecution': [],\n",
      " 'executionStages': {'advanced': 1337,\n",
      "                     'alreadyHasObj': 0,\n",
      "                     'docsExamined': 1337,\n",
      "                     'executionTimeMillisEstimate': 1,\n",
      "                     'inputStage': {'advanced': 1337,\n",
      "                                    'direction': 'forward',\n",
      "                                    'dupsDropped': 0,\n",
      "                                    'dupsTested': 1337,\n",
      "                                    'executionTimeMillisEstimate': 0,\n",
      "                                    'indexBounds': {'grades.grade': ['[\"Z\", '\n",
      "                                                                     '\"Z\"]']},\n",
      "                                    'indexName': 'idx_grade',\n",
      "                                    'indexVersion': 2,\n",
      "                                    'isEOF': 1,\n",
      "                                    'isMultiKey': True,\n",
      "                                    'isPartial': False,\n",
      "                                    'isSparse': False,\n",
      "                                    'isUnique': False,\n",
      "                                    'keyPattern': {'grades.grade': 1},\n",
      "                                    'keysExamined': 1337,\n",
      "                                    'multiKeyPaths': {'grades.grade': ['grades']},\n",
      "                                    'nReturned': 1337,\n",
      "                                    'needTime': 0,\n",
      "                                    'needYield': 0,\n",
      "                                    'restoreState': 10,\n",
      "                                    'saveState': 10,\n",
      "                                    'seeks': 1,\n",
      "                                    'stage': 'IXSCAN',\n",
      "                                    'works': 1338},\n",
      "                     'isEOF': 1,\n",
      "                     'nReturned': 1337,\n",
      "                     'needTime': 0,\n",
      "                     'needYield': 0,\n",
      "                     'restoreState': 10,\n",
      "                     'saveState': 10,\n",
      "                     'stage': 'FETCH',\n",
      "                     'works': 1338},\n",
      " 'executionSuccess': True,\n",
      " 'executionTimeMillis': 2,\n",
      " 'nReturned': 1337,\n",
      " 'totalDocsExamined': 1337,\n",
      " 'totalKeysExamined': 1337}\n"
     ]
    }
   ],
   "source": [
    "pprint(db.restaurants.find({'grades.grade':'Z'}).explain()[\"executionStats\"])"
   ]
  },
  {
   "cell_type": "markdown",
   "metadata": {},
   "source": [
    "#### Adding partial index\n",
    "\n",
    "* Index with filtering - only index part of the documents in a collection\n",
    "* Reference: https://docs.mongodb.com/manual/core/index-partial/"
   ]
  },
  {
   "cell_type": "code",
   "execution_count": 79,
   "metadata": {},
   "outputs": [
    {
     "name": "stdout",
     "output_type": "stream",
     "text": [
      "{'_id_': {'key': [('_id', 1)], 'ns': 'sample_restaurants.restaurants', 'v': 2},\n",
      " 'idx_grade': {'key': [('grades.grade', 1)],\n",
      "               'ns': 'sample_restaurants.restaurants',\n",
      "               'partialFilterExpression': {'grades.score': SON([('$gt', 10)])},\n",
      "               'v': 2}}\n"
     ]
    }
   ],
   "source": [
    "db.restaurants.drop_indexes()\n",
    "\n",
    "db.restaurants.create_index('grades.grade', name='idx_grade', partialFilterExpression={'grades.score':{'$gt':10}})\n",
    "pprint(db.restaurants.index_information())"
   ]
  },
  {
   "cell_type": "code",
   "execution_count": 78,
   "metadata": {},
   "outputs": [
    {
     "data": {
      "text/plain": [
       "{'_id': ObjectId('5eb3d668b31de5d588f4292f'),\n",
       " 'address': {'building': '97-22',\n",
       "  'coord': [-73.8601152, 40.7311739],\n",
       "  'street': '63 Road',\n",
       "  'zipcode': '11374'},\n",
       " 'borough': 'Queens',\n",
       " 'cuisine': 'Jewish/Kosher',\n",
       " 'grades': [{'date': datetime.datetime(2014, 11, 24, 0, 0),\n",
       "   'grade': 'Z',\n",
       "   'score': 20},\n",
       "  {'date': datetime.datetime(2013, 1, 17, 0, 0), 'grade': 'A', 'score': 13},\n",
       "  {'date': datetime.datetime(2012, 8, 2, 0, 0), 'grade': 'A', 'score': 13},\n",
       "  {'date': datetime.datetime(2011, 12, 15, 0, 0), 'grade': 'B', 'score': 25}],\n",
       " 'name': 'Tov Kosher Kitchen',\n",
       " 'restaurant_id': '40356068'}"
      ]
     },
     "execution_count": 78,
     "metadata": {},
     "output_type": "execute_result"
    }
   ],
   "source": [
    "db.restaurants.find_one({'grades.grade':'Z', 'grades.score':{'$gt':10}})"
   ]
  },
  {
   "cell_type": "code",
   "execution_count": 80,
   "metadata": {},
   "outputs": [
    {
     "name": "stdout",
     "output_type": "stream",
     "text": [
      "{'allPlansExecution': [],\n",
      " 'executionStages': {'advanced': 1322,\n",
      "                     'direction': 'forward',\n",
      "                     'docsExamined': 25359,\n",
      "                     'executionTimeMillisEstimate': 3,\n",
      "                     'filter': {'$and': [{'grades.grade': {'$eq': 'Z'}},\n",
      "                                         {'grades.score': {'$gt': 5}}]},\n",
      "                     'isEOF': 1,\n",
      "                     'nReturned': 1322,\n",
      "                     'needTime': 24038,\n",
      "                     'needYield': 0,\n",
      "                     'restoreState': 198,\n",
      "                     'saveState': 198,\n",
      "                     'stage': 'COLLSCAN',\n",
      "                     'works': 25361},\n",
      " 'executionSuccess': True,\n",
      " 'executionTimeMillis': 28,\n",
      " 'nReturned': 1322,\n",
      " 'totalDocsExamined': 25359,\n",
      " 'totalKeysExamined': 0}\n"
     ]
    }
   ],
   "source": [
    "# This cannot use the index\n",
    "pprint(db.restaurants.find({'grades.grade':'Z', 'grades.score':{'$gt':5}}).explain()[\"executionStats\"])"
   ]
  },
  {
   "cell_type": "code",
   "execution_count": 81,
   "metadata": {},
   "outputs": [
    {
     "name": "stdout",
     "output_type": "stream",
     "text": [
      "{'allPlansExecution': [],\n",
      " 'executionStages': {'advanced': 1313,\n",
      "                     'alreadyHasObj': 0,\n",
      "                     'docsExamined': 1313,\n",
      "                     'executionTimeMillisEstimate': 0,\n",
      "                     'filter': {'grades.score': {'$gt': 10}},\n",
      "                     'inputStage': {'advanced': 1313,\n",
      "                                    'direction': 'forward',\n",
      "                                    'dupsDropped': 0,\n",
      "                                    'dupsTested': 1313,\n",
      "                                    'executionTimeMillisEstimate': 0,\n",
      "                                    'indexBounds': {'grades.grade': ['[\"Z\", '\n",
      "                                                                     '\"Z\"]']},\n",
      "                                    'indexName': 'idx_grade',\n",
      "                                    'indexVersion': 2,\n",
      "                                    'isEOF': 1,\n",
      "                                    'isMultiKey': True,\n",
      "                                    'isPartial': True,\n",
      "                                    'isSparse': False,\n",
      "                                    'isUnique': False,\n",
      "                                    'keyPattern': {'grades.grade': 1},\n",
      "                                    'keysExamined': 1313,\n",
      "                                    'multiKeyPaths': {'grades.grade': ['grades']},\n",
      "                                    'nReturned': 1313,\n",
      "                                    'needTime': 0,\n",
      "                                    'needYield': 0,\n",
      "                                    'restoreState': 10,\n",
      "                                    'saveState': 10,\n",
      "                                    'seeks': 1,\n",
      "                                    'stage': 'IXSCAN',\n",
      "                                    'works': 1314},\n",
      "                     'isEOF': 1,\n",
      "                     'nReturned': 1313,\n",
      "                     'needTime': 0,\n",
      "                     'needYield': 0,\n",
      "                     'restoreState': 10,\n",
      "                     'saveState': 10,\n",
      "                     'stage': 'FETCH',\n",
      "                     'works': 1314},\n",
      " 'executionSuccess': True,\n",
      " 'executionTimeMillis': 4,\n",
      " 'nReturned': 1313,\n",
      " 'totalDocsExamined': 1313,\n",
      " 'totalKeysExamined': 1313}\n"
     ]
    }
   ],
   "source": [
    "pprint(db.restaurants.find({'grades.grade':'Z', 'grades.score':{'$gt':10}}).explain()[\"executionStats\"])"
   ]
  },
  {
   "cell_type": "code",
   "execution_count": 83,
   "metadata": {},
   "outputs": [
    {
     "name": "stdout",
     "output_type": "stream",
     "text": [
      "{'allPlansExecution': [],\n",
      " 'executionStages': {'advanced': 1007,\n",
      "                     'alreadyHasObj': 0,\n",
      "                     'docsExamined': 1313,\n",
      "                     'executionTimeMillisEstimate': 0,\n",
      "                     'filter': {'grades.score': {'$gt': 20}},\n",
      "                     'inputStage': {'advanced': 1313,\n",
      "                                    'direction': 'forward',\n",
      "                                    'dupsDropped': 0,\n",
      "                                    'dupsTested': 1313,\n",
      "                                    'executionTimeMillisEstimate': 0,\n",
      "                                    'indexBounds': {'grades.grade': ['[\"Z\", '\n",
      "                                                                     '\"Z\"]']},\n",
      "                                    'indexName': 'idx_grade',\n",
      "                                    'indexVersion': 2,\n",
      "                                    'isEOF': 1,\n",
      "                                    'isMultiKey': True,\n",
      "                                    'isPartial': True,\n",
      "                                    'isSparse': False,\n",
      "                                    'isUnique': False,\n",
      "                                    'keyPattern': {'grades.grade': 1},\n",
      "                                    'keysExamined': 1313,\n",
      "                                    'multiKeyPaths': {'grades.grade': ['grades']},\n",
      "                                    'nReturned': 1313,\n",
      "                                    'needTime': 0,\n",
      "                                    'needYield': 0,\n",
      "                                    'restoreState': 10,\n",
      "                                    'saveState': 10,\n",
      "                                    'seeks': 1,\n",
      "                                    'stage': 'IXSCAN',\n",
      "                                    'works': 1314},\n",
      "                     'isEOF': 1,\n",
      "                     'nReturned': 1007,\n",
      "                     'needTime': 306,\n",
      "                     'needYield': 0,\n",
      "                     'restoreState': 10,\n",
      "                     'saveState': 10,\n",
      "                     'stage': 'FETCH',\n",
      "                     'works': 1314},\n",
      " 'executionSuccess': True,\n",
      " 'executionTimeMillis': 3,\n",
      " 'nReturned': 1007,\n",
      " 'totalDocsExamined': 1313,\n",
      " 'totalKeysExamined': 1313}\n"
     ]
    }
   ],
   "source": [
    "# Only when the filtering threshold is within the scope specified in `create_index()`, partial index would work\n",
    "pprint(db.restaurants.find({'grades.grade':'Z', 'grades.score':{'$gt':20}}).explain()[\"executionStats\"])"
   ]
  },
  {
   "cell_type": "markdown",
   "metadata": {},
   "source": [
    "### Type 4 Index - Text Index\n",
    "\n",
    "* It does search through text match, using text field\n",
    "  * Doesn't need exact match, but more like substring match"
   ]
  },
  {
   "cell_type": "code",
   "execution_count": 48,
   "metadata": {},
   "outputs": [
    {
     "data": {
      "text/plain": [
       "{'_id_': {'v': 2, 'key': [('_id', 1)], 'ns': 'sample_restaurants.restaurants'}}"
      ]
     },
     "execution_count": 48,
     "metadata": {},
     "output_type": "execute_result"
    }
   ],
   "source": [
    "# drop all the indexes first\n",
    "db.restaurants.drop_indexes()\n",
    "\n",
    "db.restaurants.index_information()"
   ]
  },
  {
   "cell_type": "code",
   "execution_count": 50,
   "metadata": {},
   "outputs": [
    {
     "data": {
      "text/plain": [
       "{'_id': ObjectId('5eb3d668b31de5d588f4292a'),\n",
       " 'address': {'building': '2780',\n",
       "  'coord': [-73.98241999999999, 40.579505],\n",
       "  'street': 'Stillwell Avenue',\n",
       "  'zipcode': '11224'},\n",
       " 'borough': 'Brooklyn',\n",
       " 'cuisine': 'American',\n",
       " 'grades': [{'date': datetime.datetime(2014, 6, 10, 0, 0),\n",
       "   'grade': 'A',\n",
       "   'score': 5},\n",
       "  {'date': datetime.datetime(2013, 6, 5, 0, 0), 'grade': 'A', 'score': 7},\n",
       "  {'date': datetime.datetime(2012, 4, 13, 0, 0), 'grade': 'A', 'score': 12},\n",
       "  {'date': datetime.datetime(2011, 10, 12, 0, 0), 'grade': 'A', 'score': 12}],\n",
       " 'name': 'Riviera Caterer',\n",
       " 'restaurant_id': '40356018'}"
      ]
     },
     "execution_count": 50,
     "metadata": {},
     "output_type": "execute_result"
    }
   ],
   "source": [
    "db.restaurants.find_one()"
   ]
  },
  {
   "cell_type": "code",
   "execution_count": 55,
   "metadata": {},
   "outputs": [
    {
     "name": "stdout",
     "output_type": "stream",
     "text": [
      "{'_id': ObjectId('5eb3d669b31de5d588f48b5e'),\n",
      " 'address': {'building': '65',\n",
      "             'coord': [-73.999174, 40.7334443],\n",
      "             'street': 'W 8Th St',\n",
      "             'zipcode': '10011'},\n",
      " 'borough': 'Manhattan',\n",
      " 'cuisine': 'Chinese',\n",
      " 'grades': [{'date': datetime.datetime(2015, 1, 20, 0, 0),\n",
      "             'grade': 'Not Yet Graded',\n",
      "             'score': 22}],\n",
      " 'name': 'Bubble Tea',\n",
      " 'restaurant_id': '50018503'}\n"
     ]
    }
   ],
   "source": [
    "db.restaurants.create_index([('name', 'text')], name='idx_restaurant_name')\n",
    "\n",
    "pprint(db.restaurants.find_one({\"$text\": {\"$search\": \"coffee bubble tea\"}}))"
   ]
  },
  {
   "cell_type": "markdown",
   "metadata": {},
   "source": [
    "### Type 5 Index - Geospatial Index\n",
    "\n",
    "* It helps search nearby\n",
    "  * `pymongo.GEO2D`\n",
    "  * `pymongo.GEOSPHERE`\n",
    "    * This one is very easy to create error, not suggestto use it. For more, check https://www.analyticsvidhya.com/blog/2020/09/mongodb-indexes-pymongo-tutorial/?utm_source=feedburner&utm_medium=email&utm_campaign=Feed%3A+AnalyticsVidhya+%28Analytics+Vidhya%29"
   ]
  },
  {
   "cell_type": "code",
   "execution_count": 56,
   "metadata": {},
   "outputs": [
    {
     "data": {
      "text/plain": [
       "{'_id': ObjectId('5eb3d668b31de5d588f4292a'),\n",
       " 'address': {'building': '2780',\n",
       "  'coord': [-73.98241999999999, 40.579505],\n",
       "  'street': 'Stillwell Avenue',\n",
       "  'zipcode': '11224'},\n",
       " 'borough': 'Brooklyn',\n",
       " 'cuisine': 'American',\n",
       " 'grades': [{'date': datetime.datetime(2014, 6, 10, 0, 0),\n",
       "   'grade': 'A',\n",
       "   'score': 5},\n",
       "  {'date': datetime.datetime(2013, 6, 5, 0, 0), 'grade': 'A', 'score': 7},\n",
       "  {'date': datetime.datetime(2012, 4, 13, 0, 0), 'grade': 'A', 'score': 12},\n",
       "  {'date': datetime.datetime(2011, 10, 12, 0, 0), 'grade': 'A', 'score': 12}],\n",
       " 'name': 'Riviera Caterer',\n",
       " 'restaurant_id': '40356018'}"
      ]
     },
     "execution_count": 56,
     "metadata": {},
     "output_type": "execute_result"
    }
   ],
   "source": [
    "db.restaurants.drop_indexes()\n",
    "\n",
    "db.restaurants.find_one()"
   ]
  },
  {
   "cell_type": "code",
   "execution_count": 58,
   "metadata": {},
   "outputs": [
    {
     "data": {
      "text/plain": [
       "25357"
      ]
     },
     "execution_count": 58,
     "metadata": {},
     "output_type": "execute_result"
    }
   ],
   "source": [
    "db.restaurants.create_index([('address.coord', pymongo.GEO2D)], name='idx_coord')\n",
    "\n",
    "db.restaurants.find({'address.coord':{'$near':[-73,41]}}).count()"
   ]
  },
  {
   "cell_type": "code",
   "execution_count": 60,
   "metadata": {},
   "outputs": [
    {
     "name": "stdout",
     "output_type": "stream",
     "text": [
      "{'_id': ObjectId('5eb3d668b31de5d588f42a40'),\n",
      " 'address': {'building': '2701',\n",
      "             'coord': [-72.7329266, 41.3099228],\n",
      "             'street': 'Boston Post Road',\n",
      "             'zipcode': '10467'},\n",
      " 'borough': 'Bronx',\n",
      " 'cuisine': 'Hamburgers',\n",
      " 'grades': [{'date': datetime.datetime(2014, 5, 28, 0, 0),\n",
      "             'grade': 'A',\n",
      "             'score': 9},\n",
      "            {'date': datetime.datetime(2014, 1, 16, 0, 0),\n",
      "             'grade': 'A',\n",
      "             'score': 5},\n",
      "            {'date': datetime.datetime(2013, 1, 2, 0, 0),\n",
      "             'grade': 'A',\n",
      "             'score': 12},\n",
      "            {'date': datetime.datetime(2011, 12, 27, 0, 0),\n",
      "             'grade': 'A',\n",
      "             'score': 2}],\n",
      " 'name': 'White Castle',\n",
      " 'restaurant_id': '40369669'}\n"
     ]
    }
   ],
   "source": [
    "pprint(db.restaurants.find_one({'address.coord':{'$near':[-73,41]}}))"
   ]
  },
  {
   "cell_type": "code",
   "execution_count": 61,
   "metadata": {},
   "outputs": [
    {
     "data": {
      "text/plain": [
       "177"
      ]
     },
     "execution_count": 61,
     "metadata": {},
     "output_type": "execute_result"
    }
   ],
   "source": [
    "# search nearby with specified min & max distance\n",
    "db.restaurants.find({'address.coord':\n",
    "                                    {'$near':[-73,41],\n",
    "                                     '$minDistance':10,\n",
    "                                     '$maxDistance':100\n",
    "                                    }\n",
    "                    }).count()"
   ]
  }
 ],
 "metadata": {
  "kernelspec": {
   "display_name": "Python 3",
   "language": "python",
   "name": "python3"
  },
  "language_info": {
   "codemirror_mode": {
    "name": "ipython",
    "version": 3
   },
   "file_extension": ".py",
   "mimetype": "text/x-python",
   "name": "python",
   "nbconvert_exporter": "python",
   "pygments_lexer": "ipython3",
   "version": "3.7.6"
  }
 },
 "nbformat": 4,
 "nbformat_minor": 4
}
