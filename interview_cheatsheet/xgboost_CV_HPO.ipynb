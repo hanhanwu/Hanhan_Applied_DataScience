{
 "cells": [
  {
   "cell_type": "markdown",
   "metadata": {},
   "source": [
    "# Example of using XGBoost\n",
    "* Without CV\n",
    "* With CV\n",
    "* With param tuning\n",
    "* Accuracy is not the focus in this example "
   ]
  },
  {
   "cell_type": "code",
   "execution_count": 2,
   "metadata": {},
   "outputs": [],
   "source": [
    "import xgboost as xgb\n",
    "\n",
    "import pandas as pd\n",
    "import numpy as np\n",
    "\n",
    "from xgboost import XGBClassifier, XGBRegressor\n",
    "from sklearn.model_selection import cross_val_score\n",
    "from sklearn.model_selection import KFold, StratifiedKFold\n",
    "from sklearn.model_selection import train_test_split\n",
    "from sklearn.metrics import r2_score\n",
    "\n",
    "import optuna"
   ]
  },
  {
   "cell_type": "code",
   "execution_count": 3,
   "metadata": {},
   "outputs": [
    {
     "data": {
      "text/html": [
       "<div>\n",
       "<style scoped>\n",
       "    .dataframe tbody tr th:only-of-type {\n",
       "        vertical-align: middle;\n",
       "    }\n",
       "\n",
       "    .dataframe tbody tr th {\n",
       "        vertical-align: top;\n",
       "    }\n",
       "\n",
       "    .dataframe thead th {\n",
       "        text-align: right;\n",
       "    }\n",
       "</style>\n",
       "<table border=\"1\" class=\"dataframe\">\n",
       "  <thead>\n",
       "    <tr style=\"text-align: right;\">\n",
       "      <th></th>\n",
       "      <th>Reputation</th>\n",
       "      <th>Answers</th>\n",
       "      <th>Views</th>\n",
       "      <th>Upvotes</th>\n",
       "    </tr>\n",
       "  </thead>\n",
       "  <tbody>\n",
       "    <tr>\n",
       "      <th>0</th>\n",
       "      <td>3942.0</td>\n",
       "      <td>2.0</td>\n",
       "      <td>7855.0</td>\n",
       "      <td>42.0</td>\n",
       "    </tr>\n",
       "    <tr>\n",
       "      <th>1</th>\n",
       "      <td>26046.0</td>\n",
       "      <td>12.0</td>\n",
       "      <td>55801.0</td>\n",
       "      <td>1175.0</td>\n",
       "    </tr>\n",
       "    <tr>\n",
       "      <th>2</th>\n",
       "      <td>1358.0</td>\n",
       "      <td>4.0</td>\n",
       "      <td>8067.0</td>\n",
       "      <td>60.0</td>\n",
       "    </tr>\n",
       "    <tr>\n",
       "      <th>3</th>\n",
       "      <td>264.0</td>\n",
       "      <td>3.0</td>\n",
       "      <td>27064.0</td>\n",
       "      <td>9.0</td>\n",
       "    </tr>\n",
       "    <tr>\n",
       "      <th>4</th>\n",
       "      <td>4271.0</td>\n",
       "      <td>4.0</td>\n",
       "      <td>13986.0</td>\n",
       "      <td>83.0</td>\n",
       "    </tr>\n",
       "  </tbody>\n",
       "</table>\n",
       "</div>"
      ],
      "text/plain": [
       "   Reputation  Answers    Views  Upvotes\n",
       "0      3942.0      2.0   7855.0     42.0\n",
       "1     26046.0     12.0  55801.0   1175.0\n",
       "2      1358.0      4.0   8067.0     60.0\n",
       "3       264.0      3.0  27064.0      9.0\n",
       "4      4271.0      4.0  13986.0     83.0"
      ]
     },
     "execution_count": 3,
     "metadata": {},
     "output_type": "execute_result"
    }
   ],
   "source": [
    "df = pd.read_csv('../data/stackoverflow.csv', nrows=1000)\n",
    "df.drop(['ID', 'Tag', 'Username'], axis=1, inplace=True)\n",
    "df.head()"
   ]
  },
  {
   "cell_type": "code",
   "execution_count": 4,
   "metadata": {},
   "outputs": [
    {
     "data": {
      "text/plain": [
       "Reputation    float64\n",
       "Answers       float64\n",
       "Views         float64\n",
       "Upvotes       float64\n",
       "dtype: object"
      ]
     },
     "execution_count": 4,
     "metadata": {},
     "output_type": "execute_result"
    }
   ],
   "source": [
    "df.dtypes"
   ]
  },
  {
   "cell_type": "code",
   "execution_count": 5,
   "metadata": {},
   "outputs": [
    {
     "name": "stdout",
     "output_type": "stream",
     "text": [
      "(1000, 3) (1000,)\n"
     ]
    },
    {
     "data": {
      "text/html": [
       "<div>\n",
       "<style scoped>\n",
       "    .dataframe tbody tr th:only-of-type {\n",
       "        vertical-align: middle;\n",
       "    }\n",
       "\n",
       "    .dataframe tbody tr th {\n",
       "        vertical-align: top;\n",
       "    }\n",
       "\n",
       "    .dataframe thead th {\n",
       "        text-align: right;\n",
       "    }\n",
       "</style>\n",
       "<table border=\"1\" class=\"dataframe\">\n",
       "  <thead>\n",
       "    <tr style=\"text-align: right;\">\n",
       "      <th></th>\n",
       "      <th>Reputation</th>\n",
       "      <th>Answers</th>\n",
       "      <th>Views</th>\n",
       "    </tr>\n",
       "  </thead>\n",
       "  <tbody>\n",
       "    <tr>\n",
       "      <th>0</th>\n",
       "      <td>3942.0</td>\n",
       "      <td>2.0</td>\n",
       "      <td>7855.0</td>\n",
       "    </tr>\n",
       "    <tr>\n",
       "      <th>1</th>\n",
       "      <td>26046.0</td>\n",
       "      <td>12.0</td>\n",
       "      <td>55801.0</td>\n",
       "    </tr>\n",
       "    <tr>\n",
       "      <th>2</th>\n",
       "      <td>1358.0</td>\n",
       "      <td>4.0</td>\n",
       "      <td>8067.0</td>\n",
       "    </tr>\n",
       "    <tr>\n",
       "      <th>3</th>\n",
       "      <td>264.0</td>\n",
       "      <td>3.0</td>\n",
       "      <td>27064.0</td>\n",
       "    </tr>\n",
       "    <tr>\n",
       "      <th>4</th>\n",
       "      <td>4271.0</td>\n",
       "      <td>4.0</td>\n",
       "      <td>13986.0</td>\n",
       "    </tr>\n",
       "  </tbody>\n",
       "</table>\n",
       "</div>"
      ],
      "text/plain": [
       "   Reputation  Answers    Views\n",
       "0      3942.0      2.0   7855.0\n",
       "1     26046.0     12.0  55801.0\n",
       "2      1358.0      4.0   8067.0\n",
       "3       264.0      3.0  27064.0\n",
       "4      4271.0      4.0  13986.0"
      ]
     },
     "execution_count": 5,
     "metadata": {},
     "output_type": "execute_result"
    }
   ],
   "source": [
    "y= df['Upvotes']\n",
    "X = df.drop('Upvotes', axis=1)\n",
    "\n",
    "print(X.shape, y.shape)\n",
    "X.head()"
   ]
  },
  {
   "cell_type": "code",
   "execution_count": 6,
   "metadata": {},
   "outputs": [
    {
     "name": "stdout",
     "output_type": "stream",
     "text": [
      "(700, 3) (300, 3) (700,) (300,)\n"
     ]
    }
   ],
   "source": [
    "X_train, X_test, y_train, y_test = train_test_split(X, y, test_size=0.3, random_state=10)\n",
    "\n",
    "print(X_train.shape, X_test.shape, y_train.shape, y_test.shape)"
   ]
  },
  {
   "cell_type": "markdown",
   "metadata": {},
   "source": [
    "### Xgboost without CV\n",
    "\n",
    "* list of xgboost objective functions: https://xgboost.readthedocs.io/en/latest/parameter.html#parameters-for-tweedie-regression-objective-reg-tweedie\n",
    "  * Not all the \"reg\" objective function can be used in XGBRegressor..."
   ]
  },
  {
   "cell_type": "code",
   "execution_count": 48,
   "metadata": {},
   "outputs": [],
   "source": [
    "model = XGBRegressor(max_depth=7, min_child_weight=1,\n",
    "                  silent=1, colsample_bytree=0.5,\n",
    "                  subsample=0.5,\n",
    "                  objective='reg:squarederror',\n",
    "                  eval_metric='rmse', learning_rate=1,\n",
    "                  n_jobs=2)"
   ]
  },
  {
   "cell_type": "code",
   "execution_count": 49,
   "metadata": {},
   "outputs": [
    {
     "data": {
      "text/plain": [
       "XGBRegressor(base_score=0.5, booster='gbtree', colsample_bylevel=1,\n",
       "             colsample_bynode=1, colsample_bytree=0.5, eval_metric='rmse',\n",
       "             gamma=0, importance_type='gain', learning_rate=1, max_delta_step=0,\n",
       "             max_depth=7, min_child_weight=1, missing=None, n_estimators=100,\n",
       "             n_jobs=2, nthread=None, objective='reg:squarederror',\n",
       "             random_state=0, reg_alpha=0, reg_lambda=1, scale_pos_weight=1,\n",
       "             seed=None, silent=1, subsample=0.5, verbosity=1)"
      ]
     },
     "execution_count": 49,
     "metadata": {},
     "output_type": "execute_result"
    }
   ],
   "source": [
    "model.fit(X_train, y_train)"
   ]
  },
  {
   "cell_type": "code",
   "execution_count": 51,
   "metadata": {},
   "outputs": [
    {
     "data": {
      "text/plain": [
       "array([ -15.621664,  109.5023  ,  -33.97372 ,  314.199   ,  -78.72447 ,\n",
       "        234.34503 , -117.758415,  -18.977987,   35.213024,  798.4864  ],\n",
       "      dtype=float32)"
      ]
     },
     "execution_count": 51,
     "metadata": {},
     "output_type": "execute_result"
    }
   ],
   "source": [
    "y_pred = model.predict(X_test)\n",
    "\n",
    "y_pred[:10]"
   ]
  },
  {
   "cell_type": "code",
   "execution_count": 52,
   "metadata": {},
   "outputs": [
    {
     "data": {
      "text/plain": [
       "-0.5791420477951836"
      ]
     },
     "execution_count": 52,
     "metadata": {},
     "output_type": "execute_result"
    }
   ],
   "source": [
    "r2 = r2_score(y_true=y_test.values, y_pred=y_pred)\n",
    "r2"
   ]
  },
  {
   "cell_type": "markdown",
   "metadata": {},
   "source": [
    "### Xgboost with CV\n",
    "\n",
    "* StratifiedKFold may not work well for continuous labels when the dataset is small, because some fold might not get enough records\n",
    "* The CV used here doesn't help find optimal n_estimators like `xgb.cv` does, but returns the evaluation result in each fold. To find optimal param set, need to use param tuning seperately"
   ]
  },
  {
   "cell_type": "code",
   "execution_count": 57,
   "metadata": {},
   "outputs": [],
   "source": [
    "model = XGBRegressor(max_depth=7, min_child_weight=1,\n",
    "                  silent=1, colsample_bytree=0.5,\n",
    "                  subsample=0.5,\n",
    "                  objective='reg:squarederror',\n",
    "                  eval_metric='rmse', learning_rate=1)"
   ]
  },
  {
   "cell_type": "code",
   "execution_count": 67,
   "metadata": {},
   "outputs": [],
   "source": [
    "skfold = KFold(n_splits=10, random_state=10, shuffle=True)\n",
    "results = cross_val_score(model, X_train, y_train, cv=skfold)"
   ]
  },
  {
   "cell_type": "code",
   "execution_count": 68,
   "metadata": {},
   "outputs": [
    {
     "name": "stdout",
     "output_type": "stream",
     "text": [
      "[-1.62993391e-02 -4.28167717e-01  2.19265675e-01 -2.57747309e+01\n",
      " -9.29490899e+01 -1.24038048e-01 -3.46751945e+00 -1.28927888e+00\n",
      "  4.29354009e-02 -1.07404742e+01]\n",
      "-13.452739742648896\n"
     ]
    }
   ],
   "source": [
    "print(results)\n",
    "print(np.mean(results))"
   ]
  },
  {
   "cell_type": "markdown",
   "metadata": {},
   "source": [
    "### Param tuning with Optuna"
   ]
  },
  {
   "cell_type": "code",
   "execution_count": 9,
   "metadata": {},
   "outputs": [
    {
     "name": "stderr",
     "output_type": "stream",
     "text": [
      "\u001b[32m[I 2020-12-07 22:22:10,197]\u001b[0m A new study created in memory with name: no-name-ed81160e-34c9-4397-8f90-ad7d6f892242\u001b[0m\n",
      "\u001b[32m[I 2020-12-07 22:22:10,289]\u001b[0m Trial 0 finished with value: -4.8480136083434076 and parameters: {'n_estimators': 10, 'max_depth': 1.4540943542396396}. Best is trial 0 with value: -4.8480136083434076.\u001b[0m\n",
      "\u001b[32m[I 2020-12-07 22:22:10,355]\u001b[0m Trial 1 finished with value: -12.959477556151347 and parameters: {'n_estimators': 4, 'max_depth': 6.432901531352945}. Best is trial 1 with value: -12.959477556151347.\u001b[0m\n",
      "\u001b[32m[I 2020-12-07 22:22:10,404]\u001b[0m Trial 2 finished with value: -14.326872379952599 and parameters: {'n_estimators': 9, 'max_depth': 7.389065228912997}. Best is trial 2 with value: -14.326872379952599.\u001b[0m\n",
      "\u001b[32m[I 2020-12-07 22:22:10,446]\u001b[0m Trial 3 finished with value: -12.768200714525436 and parameters: {'n_estimators': 4, 'max_depth': 9.573743715135896}. Best is trial 2 with value: -14.326872379952599.\u001b[0m\n",
      "\u001b[32m[I 2020-12-07 22:22:10,488]\u001b[0m Trial 4 finished with value: -6.5947923970332125 and parameters: {'n_estimators': 5, 'max_depth': 1.2058039171158588}. Best is trial 2 with value: -14.326872379952599.\u001b[0m\n",
      "\u001b[32m[I 2020-12-07 22:22:10,531]\u001b[0m Trial 5 finished with value: -14.37613911955653 and parameters: {'n_estimators': 9, 'max_depth': 6.103028626842698}. Best is trial 5 with value: -14.37613911955653.\u001b[0m\n",
      "\u001b[32m[I 2020-12-07 22:22:10,588]\u001b[0m Trial 6 finished with value: -13.762497540993527 and parameters: {'n_estimators': 17, 'max_depth': 7.362183125299555}. Best is trial 5 with value: -14.37613911955653.\u001b[0m\n",
      "\u001b[32m[I 2020-12-07 22:22:10,634]\u001b[0m Trial 7 finished with value: -14.37613911955653 and parameters: {'n_estimators': 9, 'max_depth': 6.828917791452428}. Best is trial 5 with value: -14.37613911955653.\u001b[0m\n",
      "\u001b[32m[I 2020-12-07 22:22:10,677]\u001b[0m Trial 8 finished with value: -6.795886476821424 and parameters: {'n_estimators': 14, 'max_depth': 2.572010994773761}. Best is trial 5 with value: -14.37613911955653.\u001b[0m\n",
      "\u001b[32m[I 2020-12-07 22:22:10,722]\u001b[0m Trial 9 finished with value: -1.118438044497168 and parameters: {'n_estimators': 2, 'max_depth': 4.081326877963311}. Best is trial 5 with value: -14.37613911955653.\u001b[0m\n"
     ]
    },
    {
     "name": "stdout",
     "output_type": "stream",
     "text": [
      "RMSE: -14.37613911955653\n",
      "Best hyperparameters: {'n_estimators': 9, 'max_depth': 6.103028626842698}\n"
     ]
    }
   ],
   "source": [
    "def objective(trial):\n",
    "    n_estimators = trial.suggest_int('n_estimators', 2, 20)\n",
    "    max_depth = int(trial.suggest_float('max_depth', 1, 10, log=True))\n",
    "    \n",
    "    model = XGBRegressor(max_depth=max_depth, min_child_weight=1,\n",
    "                  silent=1, colsample_bytree=0.5,\n",
    "                  subsample=0.5, n_estimators=n_estimators,\n",
    "                  objective='reg:squarederror',\n",
    "                  eval_metric='rmse', learning_rate=1)\n",
    "    skfold = KFold(n_splits=10, random_state=10, shuffle=True)\n",
    "    \n",
    "    return cross_val_score(model, X_train, y_train, cv=skfold, n_jobs=-1).mean()\n",
    "\n",
    "study = optuna.create_study(direction='minimize')\n",
    "study.optimize(objective, n_trials=10)\n",
    "\n",
    "trial = study.best_trial\n",
    "\n",
    "print('RMSE: {}'.format(trial.value))\n",
    "print(\"Best hyperparameters: {}\".format(trial.params))"
   ]
  },
  {
   "cell_type": "code",
   "execution_count": null,
   "metadata": {},
   "outputs": [],
   "source": []
  }
 ],
 "metadata": {
  "kernelspec": {
   "display_name": "Python3 (venv)",
   "language": "python",
   "name": "conda_virtualenv"
  },
  "language_info": {
   "codemirror_mode": {
    "name": "ipython",
    "version": 3
   },
   "file_extension": ".py",
   "mimetype": "text/x-python",
   "name": "python",
   "nbconvert_exporter": "python",
   "pygments_lexer": "ipython3",
   "version": "3.7.7"
  }
 },
 "nbformat": 4,
 "nbformat_minor": 4
}
