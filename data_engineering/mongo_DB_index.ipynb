{
 "cells": [
  {
   "cell_type": "code",
   "execution_count": 1,
   "metadata": {},
   "outputs": [],
   "source": [
    "import pymongo\n",
    "import pprint\n",
    "import json\n",
    "from pprint import pprint\n",
    "\n",
    "import warnings\n",
    "warnings.filterwarnings('ignore')"
   ]
  },
  {
   "cell_type": "code",
   "execution_count": 8,
   "metadata": {},
   "outputs": [],
   "source": [
    "with open('credential.json') as jfile:\n",
    "    credential = json.load(jfile)"
   ]
  },
  {
   "cell_type": "markdown",
   "metadata": {},
   "source": [
    "### Load Sample Data Through MongoDB Atlas\n",
    "\n",
    "* Go to your Atlas account, click \"Collections\"\n",
    "* Click \"Load Sample Data\"\n",
    "* You can also see the data structure as well as some sample values through Atlas"
   ]
  },
  {
   "cell_type": "code",
   "execution_count": 7,
   "metadata": {},
   "outputs": [
    {
     "data": {
      "text/plain": [
       "['sample_airbnb',\n",
       " 'sample_analytics',\n",
       " 'sample_geospatial',\n",
       " 'sample_mflix',\n",
       " 'sample_restaurants',\n",
       " 'sample_supplies',\n",
       " 'sample_training',\n",
       " 'sample_weatherdata',\n",
       " 'admin',\n",
       " 'local']"
      ]
     },
     "execution_count": 7,
     "metadata": {},
     "output_type": "execute_result"
    }
   ],
   "source": [
    "# connect to the mongoclient\n",
    "connection_str = credential['connection_str']\n",
    "client = pymongo.MongoClient(connection_str)\n",
    "\n",
    "client.list_database_names()"
   ]
  },
  {
   "cell_type": "code",
   "execution_count": 9,
   "metadata": {},
   "outputs": [
    {
     "data": {
      "text/plain": [
       "['restaurants', 'neighborhoods']"
      ]
     },
     "execution_count": 9,
     "metadata": {},
     "output_type": "execute_result"
    }
   ],
   "source": [
    "db = client.sample_restaurants\n",
    "\n",
    "db.list_collection_names()  # a collection is like a table"
   ]
  },
  {
   "cell_type": "code",
   "execution_count": 11,
   "metadata": {},
   "outputs": [
    {
     "name": "stdout",
     "output_type": "stream",
     "text": [
      "25359\n",
      "195\n"
     ]
    }
   ],
   "source": [
    "# count the number of documents in each collection\n",
    "print(db['restaurants'].find().count())\n",
    "print(db['neighborhoods'].find().count())"
   ]
  },
  {
   "cell_type": "code",
   "execution_count": 12,
   "metadata": {},
   "outputs": [
    {
     "data": {
      "text/plain": [
       "{'_id': ObjectId('5eb3d668b31de5d588f4292a'),\n",
       " 'address': {'building': '2780',\n",
       "  'coord': [-73.98241999999999, 40.579505],\n",
       "  'street': 'Stillwell Avenue',\n",
       "  'zipcode': '11224'},\n",
       " 'borough': 'Brooklyn',\n",
       " 'cuisine': 'American',\n",
       " 'grades': [{'date': datetime.datetime(2014, 6, 10, 0, 0),\n",
       "   'grade': 'A',\n",
       "   'score': 5},\n",
       "  {'date': datetime.datetime(2013, 6, 5, 0, 0), 'grade': 'A', 'score': 7},\n",
       "  {'date': datetime.datetime(2012, 4, 13, 0, 0), 'grade': 'A', 'score': 12},\n",
       "  {'date': datetime.datetime(2011, 10, 12, 0, 0), 'grade': 'A', 'score': 12}],\n",
       " 'name': 'Riviera Caterer',\n",
       " 'restaurant_id': '40356018'}"
      ]
     },
     "execution_count": 12,
     "metadata": {},
     "output_type": "execute_result"
    }
   ],
   "source": [
    "db['restaurants'].find_one()"
   ]
  },
  {
   "cell_type": "code",
   "execution_count": 14,
   "metadata": {},
   "outputs": [
    {
     "data": {
      "text/plain": [
       "dict_keys(['_id', 'geometry', 'name'])"
      ]
     },
     "execution_count": 14,
     "metadata": {},
     "output_type": "execute_result"
    }
   ],
   "source": [
    "db['neighborhoods'].find_one().keys()"
   ]
  },
  {
   "cell_type": "markdown",
   "metadata": {},
   "source": [
    "## MongoDB Index\n",
    "\n",
    "### Default Index\n",
    "\n",
    "* By default, mongoDB gives an id to each document in a collection, this is the default index of each collection.\n",
    "* However, it's using \"COLLSCAN\" (collection scan), which means MongoDB needs to scan every document in a collection to look for the relevant documents."
   ]
  },
  {
   "cell_type": "code",
   "execution_count": 16,
   "metadata": {},
   "outputs": [
    {
     "name": "stdout",
     "output_type": "stream",
     "text": [
      "{'_id_': {'v': 2, 'key': [('_id', 1)], 'ns': 'sample_restaurants.restaurants'}}\n",
      "{'_id_': {'v': 2, 'key': [('_id', 1)], 'ns': 'sample_restaurants.neighborhoods'}}\n"
     ]
    }
   ],
   "source": [
    "print(db.restaurants.index_information())\n",
    "print(db.neighborhoods.index_information())"
   ]
  },
  {
   "cell_type": "code",
   "execution_count": 17,
   "metadata": {},
   "outputs": [
    {
     "name": "stdout",
     "output_type": "stream",
     "text": [
      "{'$clusterTime': {'clusterTime': Timestamp(1600551368, 1),\n",
      "                  'signature': {'hash': b'R\\xeey\\xf5{\\xf7\\xf2\\xec\\xb2^\\xfe\\x9a'\n",
      "                                        b'.\\xf3\\xb8\\x8d\\x81K\\x81\"',\n",
      "                                'keyId': 6873329467658338307}},\n",
      " 'executionStats': {'allPlansExecution': [],\n",
      "                    'executionStages': {'advanced': 25359,\n",
      "                                        'direction': 'forward',\n",
      "                                        'docsExamined': 25359,\n",
      "                                        'executionTimeMillisEstimate': 1,\n",
      "                                        'isEOF': 1,\n",
      "                                        'nReturned': 25359,\n",
      "                                        'needTime': 1,\n",
      "                                        'needYield': 0,\n",
      "                                        'restoreState': 198,\n",
      "                                        'saveState': 198,\n",
      "                                        'stage': 'COLLSCAN',\n",
      "                                        'works': 25361},\n",
      "                    'executionSuccess': True,\n",
      "                    'executionTimeMillis': 8,\n",
      "                    'nReturned': 25359,\n",
      "                    'totalDocsExamined': 25359,\n",
      "                    'totalKeysExamined': 0},\n",
      " 'ok': 1.0,\n",
      " 'operationTime': Timestamp(1600551368, 1),\n",
      " 'queryPlanner': {'indexFilterSet': False,\n",
      "                  'namespace': 'sample_restaurants.restaurants',\n",
      "                  'parsedQuery': {},\n",
      "                  'plannerVersion': 1,\n",
      "                  'rejectedPlans': [],\n",
      "                  'winningPlan': {'direction': 'forward', 'stage': 'COLLSCAN'}},\n",
      " 'serverInfo': {'gitVersion': '06402114114ffc5146fd4b55402c96f1dc9ec4b5',\n",
      "                'host': 'hanhan-cluster-shard-00-01.r147a.mongodb.net',\n",
      "                'port': 27017,\n",
      "                'version': '4.2.9'}}\n"
     ]
    }
   ],
   "source": [
    "pprint(db.restaurants.find().explain())"
   ]
  },
  {
   "cell_type": "markdown",
   "metadata": {},
   "source": [
    "💡 If we check `executionStats` here, \"stage\" is \"COLLSCAN\" indicates it's using the collection scan. Therefore, `nReturned` and `totalDocsExamined` have the same amount of value, which is also the total number of documents, same as `db['restaurants'].find().count()` output."
   ]
  },
  {
   "cell_type": "code",
   "execution_count": null,
   "metadata": {},
   "outputs": [],
   "source": []
  }
 ],
 "metadata": {
  "kernelspec": {
   "display_name": "Python 3",
   "language": "python",
   "name": "python3"
  },
  "language_info": {
   "codemirror_mode": {
    "name": "ipython",
    "version": 3
   },
   "file_extension": ".py",
   "mimetype": "text/x-python",
   "name": "python",
   "nbconvert_exporter": "python",
   "pygments_lexer": "ipython3",
   "version": "3.7.6"
  }
 },
 "nbformat": 4,
 "nbformat_minor": 4
}
